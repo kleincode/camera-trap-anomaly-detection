{
 "cells": [
  {
   "cell_type": "markdown",
   "metadata": {},
   "source": [
    "# Anomaly Detection in Camera Trap Images - Implementation\n",
    "This is an index file for the implementation part of my bachelor thesis 'Anomaly Detection in Camera Trap Images'."
   ]
  },
  {
   "cell_type": "markdown",
   "metadata": {},
   "source": [
    "## Approach 1: Lapse Frame Differencing\n",
    " - *approach1a_basic_frame_differencing.ipynb*: Implementation.\n",
    " - *approach1b_histograms.ipynb*: Discarded similar approach using histogram distribution to compare Lapse and Motion images.\n",
    "\n",
    "## Approach 2: Median Frame Differencing\n",
    " - *approach2_background_estimation.ipynb*: Implementation.\n",
    "\n",
    "## Approach 3: Bag of Visual Words\n",
    " - *approach3_local_features.ipynb*: Visualizations and evaluation of single trainings.\n",
    " - *approach3_boxplot.ipynb*: Boxplot to compare multiple vocabularies generated using random prototypes.\n",
    "\n",
    "## Approach 4: Autoencoder\n",
    " - *approach4_autoencoder.ipynb*: Visualizations and evaluation of single trainings.\n",
    " - *approach4_boxplot.ipynb*: Boxplot to compare multiple trainings."
   ]
  },
  {
   "cell_type": "code",
   "execution_count": null,
   "metadata": {},
   "outputs": [],
   "source": []
  }
 ],
 "metadata": {
  "kernelspec": {
   "display_name": "Python 3.10.4 ('pytorch-gpu')",
   "language": "python",
   "name": "python3"
  },
  "language_info": {
   "name": "python",
   "version": "3.10.4"
  },
  "orig_nbformat": 4,
  "vscode": {
   "interpreter": {
    "hash": "17cd5c528a3345b75540c61f907eece919c031d57a2ca1e5653325af249173c9"
   }
  }
 },
 "nbformat": 4,
 "nbformat_minor": 2
}

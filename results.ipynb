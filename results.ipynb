{
 "cells": [
  {
   "cell_type": "markdown",
   "metadata": {},
   "source": [
    "# Results"
   ]
  },
  {
   "cell_type": "markdown",
   "metadata": {},
   "source": [
    "## Beaver_01\n",
    "\n",
    "| Approach | Configuration | Best AUC | TNR @TPR>0.9 | TNR @TPR>0.99 |\n",
    "| --- | --- | ---: | ---: | ---: |\n",
    "| 1a - Basic Frame Differencing | abs var | 0.7415 | | |\n",
    "| | $\\sigma=2$, sq var | 0.8986 | | |\n",
    "| | $\\sigma=4$, sq var | 0.9156 | | |\n",
    "| 1b - Histogram Comparison | p-mean | 0.6707 | | |\n",
    "| 2 - Background Estimation | no lapse, sq var | 0.7897 | | |\n",
    "| | $\\sigma=2$, no lapse, sq var | 0.8735 | | |\n",
    "| | $\\sigma=4$, no lapse, sq var | 0.8776 | | |\n",
    "| 3 - BOW | $k=2048, kp=30$ | 0.7741 | 0.4976 | 0.0564 |\n",
    "| 4 - Autoencoder | Deep +Noise +Sparse KDE | 0.9209 | | |"
   ]
  },
  {
   "cell_type": "markdown",
   "metadata": {},
   "source": [
    "\n",
    "## Marten_01\n",
    "teilannotiert!\n",
    "\n",
    "| Approach | Configuration | Best AUC | TNR @TPR>0.9 | TNR @TPR>0.99 |\n",
    "| --- | --- | ---: | ---: | ---: |\n",
    "| 1a - Basic Frame Differencing | sq var | 0.9854 | | |\n",
    "| | $\\sigma = 2$, sq var | 1.0000 | 1.0000 | 1.0000 |\n",
    "| | $\\sigma = 4$, sq var | 1.0000 | 1.0000 | 1.0000 |\n",
    "| 2 - Background Estimation | No Lapse | 0.5832 | | |\n",
    "| 3 - BOW | $k=1024, kp=30$ | 0.7099 | | |\n",
    "| 4 - Autoencoder | Deep +Noise +Sparse KDE | 1.0000 | | |"
   ]
  },
  {
   "cell_type": "markdown",
   "metadata": {},
   "source": []
  }
 ],
 "metadata": {
  "language_info": {
   "name": "python"
  },
  "orig_nbformat": 4
 },
 "nbformat": 4,
 "nbformat_minor": 2
}

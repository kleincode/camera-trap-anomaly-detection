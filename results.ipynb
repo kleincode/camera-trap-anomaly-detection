{
 "cells": [
  {
   "cell_type": "markdown",
   "metadata": {},
   "source": [
    "# Results"
   ]
  },
  {
   "cell_type": "markdown",
   "metadata": {},
   "source": [
    "## Beaver_01\n",
    "\n",
    "| Approach | Configuration | Best AUC | TNR @TPR $\\geq$ 0.9 | TNR @TPR $\\geq$ 0.95 | TNR @TPR $\\geq$ 0.99 |\n",
    "| --- | --- | ---: | ---: | ---: | --: |\n",
    "| 1a - Basic Frame Differencing | abs var | 0.7415 | 0.4865 | | 0.2432 |\n",
    "| | $\\sigma=2$, sq var | 0.8986 | 0.7162 | | 0.5270 |\n",
    "| | $\\sigma=4$, sq var | 0.9156 | 0.7973 | | 0.5676 |\n",
    "| 1b - Histogram Comparison | p-mean | 0.6707 | | | |\n",
    "| 2 - Background Estimation | no lapse, sq var | 0.7897 | 0.6622 | | 0.2703 |\n",
    "| | $\\sigma=2$, no lapse, sq var | 0.8735 | 0.7973 | | 0.4865 |\n",
    "| | $\\sigma=4$, no lapse, sq var | 0.8776 | 0.7838 | | 0.4459 |\n",
    "| 3 - BOW | $k=2048, kp=30$ | 0.7741 | 0.4976 | 0.3382 | 0.0564 |\n",
    "| | $k=1024, kp=30$, +motion | 0.7056 | 0.2432 | 0.2222 | 0.0821 |\n",
    "| | $k=2048, kp=30$, +motion | 0.7390 | 0.3172 | 0.3092 | 0.0612 |\n",
    "| 4 - Autoencoder | Deep +Noise +Sparse KDE | 0.9209 | 0.8514 | 0.6892 | 0.1216 |"
   ]
  },
  {
   "cell_type": "markdown",
   "metadata": {},
   "source": [
    "\n",
    "## Marten_01\n",
    "teilannotiert!\n",
    "\n",
    "| Approach | Configuration | Best AUC | TNR @TPR>0.9 | TNR @TPR>0.99 |\n",
    "| --- | --- | ---: | ---: | ---: |\n",
    "| 1a - Basic Frame Differencing | sq var | 0.9854 | | |\n",
    "| | $\\sigma = 2$, sq var | 1.0000 | 1.0000 | 1.0000 |\n",
    "| | $\\sigma = 4$, sq var | 1.0000 | 1.0000 | 1.0000 |\n",
    "| 2 - Background Estimation | No Lapse | 0.5832 | | |\n",
    "| 3 - BOW | $k=1024, kp=30$ | 0.7099 | | |\n",
    "| 4 - Autoencoder | Deep +Noise +Sparse KDE | 1.0000 | | |"
   ]
  },
  {
   "cell_type": "markdown",
   "metadata": {},
   "source": [
    "gaia5: python train_bow.py ResizedSessions_NoBackup beaver_01 --clusters 4096 --include_motion && python eval_bow.py ResizedSessions_NoBackup beaver_01 --clusters 4096 --include_motion\n",
    "\n",
    "gaia4: python train_bow.py ResizedSessions_NoBackup beaver_01 --clusters 4096 && python eval_bow.py ResizedSessions_NoBackup beaver_01 --clusters 4096\n",
    "\n",
    "gaia3: python train_bow.py ResizedSessions_NoBackup beaver_01 --clusters 2048 --step_size 40 && python eval_bow.py ResizedSessions_NoBackup beaver_01 --clusters 2048 --step_size 40\n",
    "\n",
    "herkules: python train_bow.py ResizedSessions_NoBackup beaver_01 --clusters 2048 --step_size 40 --include_motion && python eval_bow.py ResizedSessions_NoBackup beaver_01 --clusters 2048 --step_size 40 --include_motion"
   ]
  },
  {
   "cell_type": "code",
   "execution_count": null,
   "metadata": {},
   "outputs": [],
   "source": []
  }
 ],
 "metadata": {
  "kernelspec": {
   "display_name": "Python 3.10.4 ('pytorch-gpu')",
   "language": "python",
   "name": "python3"
  },
  "language_info": {
   "codemirror_mode": {
    "name": "ipython",
    "version": 3
   },
   "file_extension": ".py",
   "mimetype": "text/x-python",
   "name": "python",
   "nbconvert_exporter": "python",
   "pygments_lexer": "ipython3",
   "version": "3.10.4"
  },
  "orig_nbformat": 4,
  "vscode": {
   "interpreter": {
    "hash": "17cd5c528a3345b75540c61f907eece919c031d57a2ca1e5653325af249173c9"
   }
  }
 },
 "nbformat": 4,
 "nbformat_minor": 2
}

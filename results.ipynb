{
 "cells": [
  {
   "cell_type": "markdown",
   "metadata": {},
   "source": [
    "# Results"
   ]
  },
  {
   "cell_type": "markdown",
   "metadata": {},
   "source": [
    "## Beaver_01\n",
    "\n",
    "| Approach | Configuration | Best AUC |\n",
    "| --- | --- | ---: |\n",
    "| 1a - Basic Frame Differencing | - | 0.7335 |\n",
    "| | $\\sigma=2$ | 0.8658 |\n",
    "| | $\\sigma=4$ | 0.8747 |\n",
    "| 2 - Background Estimation | No Lapse | 0.7524 |\n",
    "| 3 - BOW | $k=2048, kp=30$ | 0.7741 |\n",
    "| 4 - Autoencoder | Deep +Noise +Sparse KDE | 0.9209 |"
   ]
  },
  {
   "cell_type": "markdown",
   "metadata": {},
   "source": [
    "\n",
    "## Marten_01\n",
    "\n",
    "| Approach | Configuration | Best AUC |\n",
    "| --- | --- | ---: |\n",
    "| 2 - Background Estimation | No Lapse | 0.5832 |\n",
    "| 3 - BOW | $k=1024, kp=30$ | 0.7099 |\n",
    "| 4 - Autoencoder | Deep +Noise +Sparse KDE | 1.0000 |"
   ]
  },
  {
   "cell_type": "markdown",
   "metadata": {},
   "source": []
  }
 ],
 "metadata": {
  "language_info": {
   "name": "python"
  },
  "orig_nbformat": 4
 },
 "nbformat": 4,
 "nbformat_minor": 2
}

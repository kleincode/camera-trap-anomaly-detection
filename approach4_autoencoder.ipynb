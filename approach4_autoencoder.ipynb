{
 "cells": [
  {
   "cell_type": "code",
   "execution_count": 1,
   "metadata": {},
   "outputs": [
    {
     "name": "stderr",
     "output_type": "stream",
     "text": [
      "/home/kleinsteuber/anaconda3/envs/pytorch-gpu/lib/python3.10/site-packages/tqdm/auto.py:22: TqdmWarning: IProgress not found. Please update jupyter and ipywidgets. See https://ipywidgets.readthedocs.io/en/stable/user_install.html\n",
      "  from .autonotebook import tqdm as notebook_tqdm\n"
     ]
    },
    {
     "name": "stdout",
     "output_type": "stream",
     "text": [
      "Found 2 sessions\n",
      "Session 'Beaver_01' at folder: /home/kleinsteuber/vscode/ResizedSessions256_NoBackup/VIELAAS_Spring_Session01-VIELAAS_Beaver_01\n",
      "Loaded scans.\n"
     ]
    }
   ],
   "source": [
    "%load_ext autoreload\n",
    "%autoreload 2\n",
    "\n",
    "from glob import glob\n",
    "from torchinfo import summary\n",
    "import numpy as np\n",
    "from sklearn.neighbors import KernelDensity\n",
    "from sklearn.linear_model import LogisticRegression\n",
    "import matplotlib.pyplot as plt\n",
    "from tqdm import tqdm\n",
    "import pandas as pd\n",
    "\n",
    "from py.Dataset import Dataset\n",
    "from py.Labels import LABELS\n",
    "from py.ImageUtils import display_images\n",
    "from py.FileUtils import load\n",
    "\n",
    "DIR = '/home/kleinsteuber/vscode/ResizedSessions256_NoBackup' # dataset directory\n",
    "SESSION = \"beaver_01\"\n",
    "TRAIN_NAME = \"ae2_deep_noise_sparse\"\n",
    "\n",
    "ds = Dataset(DIR)\n",
    "session = ds.create_session(SESSION)"
   ]
  },
  {
   "cell_type": "code",
   "execution_count": 2,
   "metadata": {},
   "outputs": [],
   "source": [
    "lapse_losses, lapse_encodings, lapse_labels = load(f\"./ae_train_NoBackup/{TRAIN_NAME}/eval/{session.name}_lapse.pickle\")\n",
    "motion_losses, motion_encodings, motion_labels = load(f\"./ae_train_NoBackup/{TRAIN_NAME}/eval/{session.name}_motion.pickle\")"
   ]
  },
  {
   "cell_type": "code",
   "execution_count": 3,
   "metadata": {},
   "outputs": [],
   "source": [
    "kde = KernelDensity(kernel=\"gaussian\", bandwidth=0.2).fit(lapse_encodings)"
   ]
  },
  {
   "cell_type": "code",
   "execution_count": 4,
   "metadata": {},
   "outputs": [],
   "source": [
    "preds = kde.score_samples(motion_encodings)\n",
    "y_anom = preds[motion_labels == 1]\n",
    "y_norm = preds[motion_labels == 0]"
   ]
  },
  {
   "cell_type": "code",
   "execution_count": 5,
   "metadata": {},
   "outputs": [
    {
     "data": {
      "text/plain": [
       "count    7.400000e+01\n",
       "mean    -2.073727e+07\n",
       "std      6.007246e+07\n",
       "min     -3.089760e+08\n",
       "25%     -1.017565e+07\n",
       "50%     -7.924425e+06\n",
       "75%     -2.720522e+06\n",
       "max      3.167954e+02\n",
       "dtype: float64"
      ]
     },
     "execution_count": 5,
     "metadata": {},
     "output_type": "execute_result"
    }
   ],
   "source": [
    "pd.Series(y_norm).describe()"
   ]
  },
  {
   "cell_type": "code",
   "execution_count": 6,
   "metadata": {},
   "outputs": [
    {
     "data": {
      "text/plain": [
       "count    6.210000e+02\n",
       "mean    -2.110057e+08\n",
       "std      3.090626e+08\n",
       "min     -1.801623e+09\n",
       "25%     -1.874621e+08\n",
       "50%     -7.601582e+07\n",
       "75%     -4.367579e+07\n",
       "max     -7.580517e+05\n",
       "dtype: float64"
      ]
     },
     "execution_count": 6,
     "metadata": {},
     "output_type": "execute_result"
    }
   ],
   "source": [
    "pd.Series(y_anom).describe()"
   ]
  },
  {
   "cell_type": "code",
   "execution_count": 11,
   "metadata": {},
   "outputs": [
    {
     "data": {
      "text/plain": [
       "(621, 2)"
      ]
     },
     "execution_count": 11,
     "metadata": {},
     "output_type": "execute_result"
    }
   ],
   "source": [
    "np.array([preds[motion_labels == 1], motion_losses[motion_labels == 1]]).transpose().shape"
   ]
  },
  {
   "cell_type": "code",
   "execution_count": 20,
   "metadata": {},
   "outputs": [
    {
     "data": {
      "text/plain": [
       "0.8935251798561151"
      ]
     },
     "execution_count": 20,
     "metadata": {},
     "output_type": "execute_result"
    }
   ],
   "source": [
    "mode = \"loss\"\n",
    "\n",
    "if mode == \"kde\":\n",
    "    y_anom = preds[motion_labels == 1]\n",
    "    y_norm = preds[motion_labels == 0]\n",
    "    X = np.concatenate([y_norm, y_anom]).reshape((-1, 1))\n",
    "    y = np.concatenate([-np.ones_like(y_norm), np.ones_like(y_anom)])\n",
    "elif mode == \"loss\":\n",
    "    y_anom = motion_losses[motion_labels == 1]\n",
    "    y_norm = motion_losses[motion_labels == 0]\n",
    "    X = np.concatenate([y_norm, y_anom]).reshape((-1, 1))\n",
    "    y = np.concatenate([-np.ones_like(y_norm), np.ones_like(y_anom)])\n",
    "elif mode == \"loss,kde\" or mode == \"kde,loss\":\n",
    "    y_anom = np.array([preds[motion_labels == 1], motion_losses[motion_labels == 1]]).transpose()\n",
    "    y_norm = np.array([preds[motion_labels == 0], motion_losses[motion_labels == 0]]).transpose()\n",
    "    X = np.concatenate([y_norm, y_anom])\n",
    "    y = np.concatenate([-np.ones((y_norm.shape[0])), np.ones((y_anom.shape[0]))])\n",
    "else:\n",
    "    raise ValueError(\"unknown mode\")\n",
    "\n",
    "clf = LogisticRegression().fit(X, y)\n",
    "clf.score(X, y)"
   ]
  },
  {
   "cell_type": "code",
   "execution_count": 21,
   "metadata": {},
   "outputs": [
    {
     "name": "stdout",
     "output_type": "stream",
     "text": [
      "Accuracy:                               0.894\n",
      "True anomalous rate (must be high!):    1.000 \t - How many animals are detected as animals? (recall)\n",
      "True normal rate (higher is better):    0.000 \t - How many empties are detected as empties?\n",
      "False anomalous rate (lower is better): 1.000 \t - How many empties are detected as animals?\n",
      "False normal rate (must be low!):       0.000 \t - How many animals are detected as empties?\n",
      "Precision (higher is better):           0.894 \t - How many detected animals are actually animals?\n"
     ]
    }
   ],
   "source": [
    "def eval_test(df_threshold = 0):\n",
    "    test_results = np.where(clf.decision_function(X) >= df_threshold, np.ones(y.shape[0]), -np.ones(y.shape[0]))\n",
    "\n",
    "    accuracy = np.mean(test_results == y)\n",
    "    tar = np.sum((test_results == 1) & (y == 1)) / np.sum(y == 1)\n",
    "    tnr = np.sum((test_results == -1) & (y == -1)) / np.sum(y == -1)\n",
    "    far = np.sum((test_results == 1) & (y == -1)) / np.sum(y == -1)\n",
    "    fnr = np.sum((test_results == -1) & (y == 1)) / np.sum(y == 1)\n",
    "    precision = (np.sum((test_results == 1) & (y == 1)) / np.sum(test_results == 1)) if np.any(test_results == 1) else 0\n",
    "\n",
    "    return accuracy, tar, tnr, far, fnr, precision\n",
    "\n",
    "accuracy, tar, tnr, far, fnr, precision = eval_test()\n",
    "\n",
    "print(f\"Accuracy:                               {accuracy:.3f}\")\n",
    "print(f\"True anomalous rate (must be high!):    {tar:.3f} \\t - How many animals are detected as animals? (recall)\")\n",
    "print(f\"True normal rate (higher is better):    {tnr:.3f} \\t - How many empties are detected as empties?\")\n",
    "print(f\"False anomalous rate (lower is better): {far:.3f} \\t - How many empties are detected as animals?\")\n",
    "print(f\"False normal rate (must be low!):       {fnr:.3f} \\t - How many animals are detected as empties?\")\n",
    "print(f\"Precision (higher is better):           {precision:.3f} \\t - How many detected animals are actually animals?\")"
   ]
  },
  {
   "cell_type": "code",
   "execution_count": 32,
   "metadata": {},
   "outputs": [
    {
     "name": "stdout",
     "output_type": "stream",
     "text": [
      "150 points\n"
     ]
    },
    {
     "name": "stderr",
     "output_type": "stream",
     "text": [
      "150it [00:00, 2539.24it/s]\n"
     ]
    }
   ],
   "source": [
    "df_threshold_range = (2.12, 2.135, 0.0001)\n",
    "num_points = len(np.arange(*df_threshold_range))\n",
    "print(f\"{num_points} points\")\n",
    "eval_results = np.empty((num_points, 7))\n",
    "\n",
    "for i, df_threshold in tqdm(enumerate(np.arange(*df_threshold_range))):\n",
    "    metrics = eval_test(df_threshold)\n",
    "    eval_results[i] = [df_threshold, *metrics]"
   ]
  },
  {
   "cell_type": "code",
   "execution_count": 33,
   "metadata": {},
   "outputs": [
    {
     "data": {
      "image/png": "[encoded data removed]",
      "text/plain": [
       "<Figure size 1080x720 with 1 Axes>"
      ]
     },
     "metadata": {
      "needs_background": "light"
     },
     "output_type": "display_data"
    }
   ],
   "source": [
    "metrics_names = [\"Accuracy\", \"Recall/TAR - Correct keeps\", \"TNR - Correct eliminations\", \"FAR\", \"FNR\", \"Precision\"]\n",
    "enable_metrics = [1, 2]\n",
    "plt.figure(figsize=(15, 10))\n",
    "for i, metrics_name in enumerate(metrics_names):\n",
    "    if i in enable_metrics:\n",
    "        plt.plot(eval_results[:,0], eval_results[:,(i+1)], label=metrics_name, linewidth=2)\n",
    "plt.legend()\n",
    "plt.show()"
   ]
  },
  {
   "cell_type": "code",
   "execution_count": 43,
   "metadata": {},
   "outputs": [
    {
     "name": "stdout",
     "output_type": "stream",
     "text": [
      "threshold = 0.599999999999774, recall = 1.0, tnr = 1.0\n"
     ]
    }
   ],
   "source": [
    "i = 0\n",
    "while eval_results[i+1,2] >= 0.99:\n",
    "    i += 1\n",
    "print(f\"threshold = {eval_results[i,0]}, recall = {eval_results[i,2]}, tnr = {eval_results[i,3]}\")"
   ]
  },
  {
   "cell_type": "code",
   "execution_count": null,
   "metadata": {},
   "outputs": [],
   "source": []
  }
 ],
 "metadata": {
  "kernelspec": {
   "display_name": "Python 3.10.4 ('pytorch-gpu')",
   "language": "python",
   "name": "python3"
  },
  "language_info": {
   "codemirror_mode": {
    "name": "ipython",
    "version": 3
   },
   "file_extension": ".py",
   "mimetype": "text/x-python",
   "name": "python",
   "nbconvert_exporter": "python",
   "pygments_lexer": "ipython3",
   "version": "3.10.4"
  },
  "orig_nbformat": 4,
  "vscode": {
   "interpreter": {
    "hash": "17cd5c528a3345b75540c61f907eece919c031d57a2ca1e5653325af249173c9"
   }
  }
 },
 "nbformat": 4,
 "nbformat_minor": 2
}

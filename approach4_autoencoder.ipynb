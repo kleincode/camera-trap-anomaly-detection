{
 "cells": [
  {
   "cell_type": "code",
   "execution_count": 14,
   "metadata": {},
   "outputs": [
    {
     "name": "stdout",
     "output_type": "stream",
     "text": [
      "The autoreload extension is already loaded. To reload it, use:\n",
      "  %reload_ext autoreload\n",
      "Found 2 sessions\n",
      "Session 'Marten_01' at folder: /home/kleinsteuber/vscode/ResizedSessions256_NoBackup/VIELAAS_Spring_Session01-VIELAAS_Marten_01\n",
      "Loaded scans.\n"
     ]
    }
   ],
   "source": [
    "%load_ext autoreload\n",
    "%autoreload 2\n",
    "\n",
    "import numpy as np\n",
    "from sklearn.neighbors import KernelDensity\n",
    "from sklearn.linear_model import LogisticRegression\n",
    "import pandas as pd\n",
    "\n",
    "from py.Dataset import Dataset\n",
    "from py.FileUtils import load\n",
    "from py.PlotUtils import plot_roc_curve\n",
    "\n",
    "DIR = '/home/kleinsteuber/vscode/ResizedSessions256_NoBackup' # dataset directory\n",
    "SESSION = \"marten_01\"\n",
    "TRAIN_NAME = \"ae2_deep_noise_sparse_marten_01\"\n",
    "\n",
    "ds = Dataset(DIR)\n",
    "session = ds.create_session(SESSION)"
   ]
  },
  {
   "cell_type": "code",
   "execution_count": 15,
   "metadata": {},
   "outputs": [],
   "source": [
    "lapse_losses, lapse_encodings, lapse_labels = load(f\"./ae_train_NoBackup/{TRAIN_NAME}/eval/{session.name}_lapse.pickle\")\n",
    "motion_losses, motion_encodings, motion_labels = load(f\"./ae_train_NoBackup/{TRAIN_NAME}/eval/{session.name}_motion.pickle\")"
   ]
  },
  {
   "cell_type": "code",
   "execution_count": 16,
   "metadata": {},
   "outputs": [],
   "source": [
    "kde = KernelDensity(kernel=\"gaussian\", bandwidth=0.2).fit(lapse_encodings)"
   ]
  },
  {
   "cell_type": "code",
   "execution_count": 17,
   "metadata": {},
   "outputs": [],
   "source": [
    "preds = kde.score_samples(motion_encodings)\n",
    "y_anom = preds[motion_labels == 1]\n",
    "y_norm = preds[motion_labels == 0]"
   ]
  },
  {
   "cell_type": "code",
   "execution_count": 18,
   "metadata": {},
   "outputs": [
    {
     "data": {
      "text/plain": [
       "count    2.510000e+02\n",
       "mean    -8.112198e+07\n",
       "std      7.719151e+07\n",
       "min     -2.596059e+08\n",
       "25%     -1.292464e+08\n",
       "50%     -6.332858e+07\n",
       "75%     -5.495176e+06\n",
       "max      3.179783e+02\n",
       "dtype: float64"
      ]
     },
     "execution_count": 18,
     "metadata": {},
     "output_type": "execute_result"
    }
   ],
   "source": [
    "pd.Series(y_norm).describe()"
   ]
  },
  {
   "cell_type": "code",
   "execution_count": 19,
   "metadata": {},
   "outputs": [
    {
     "data": {
      "text/plain": [
       "count    4.900000e+01\n",
       "mean    -1.902134e+09\n",
       "std      1.244863e+09\n",
       "min     -4.574705e+09\n",
       "25%     -1.643442e+09\n",
       "50%     -1.380562e+09\n",
       "75%     -1.193421e+09\n",
       "max     -6.012163e+08\n",
       "dtype: float64"
      ]
     },
     "execution_count": 19,
     "metadata": {},
     "output_type": "execute_result"
    }
   ],
   "source": [
    "pd.Series(y_anom).describe()"
   ]
  },
  {
   "cell_type": "code",
   "execution_count": 24,
   "metadata": {},
   "outputs": [
    {
     "data": {
      "text/plain": [
       "0.3233333333333333"
      ]
     },
     "execution_count": 24,
     "metadata": {},
     "output_type": "execute_result"
    }
   ],
   "source": [
    "mode = \"kde,loss\"\n",
    "\n",
    "if mode == \"kde\":\n",
    "    y_anom = preds[motion_labels == 1]\n",
    "    y_norm = preds[motion_labels == 0]\n",
    "    X = np.concatenate([y_norm, y_anom]).reshape((-1, 1))\n",
    "    y = np.concatenate([-np.ones_like(y_norm), np.ones_like(y_anom)])\n",
    "elif mode == \"loss\":\n",
    "    y_anom = motion_losses[motion_labels == 1]\n",
    "    y_norm = motion_losses[motion_labels == 0]\n",
    "    X = np.concatenate([y_norm, y_anom]).reshape((-1, 1))\n",
    "    y = np.concatenate([-np.ones_like(y_norm), np.ones_like(y_anom)])\n",
    "elif mode == \"loss,kde\" or mode == \"kde,loss\":\n",
    "    mode = \"kde,loss\"\n",
    "    y_anom = np.array([preds[motion_labels == 1], motion_losses[motion_labels == 1]]).transpose()\n",
    "    y_norm = np.array([preds[motion_labels == 0], motion_losses[motion_labels == 0]]).transpose()\n",
    "    X = np.concatenate([y_norm, y_anom])\n",
    "    y = np.concatenate([-np.ones((y_norm.shape[0])), np.ones((y_anom.shape[0]))])\n",
    "else:\n",
    "    raise ValueError(\"unknown mode\")\n",
    "\n",
    "clf = LogisticRegression().fit(X, y)\n",
    "clf.score(X, y)"
   ]
  },
  {
   "cell_type": "code",
   "execution_count": 25,
   "metadata": {},
   "outputs": [
    {
     "data": {
      "image/png": "[encoded data removed]",
      "text/plain": [
       "<Figure size 576x576 with 1 Axes>"
      ]
     },
     "metadata": {
      "needs_background": "light"
     },
     "output_type": "display_data"
    }
   ],
   "source": [
    "fpr, tpr, thresholds, auc_score = plot_roc_curve(y, clf.decision_function(X), f\"Autoencoder {mode}\", savefile=f\"plots/approach4/roc_curves/{session.name}_{mode}\")"
   ]
  },
  {
   "cell_type": "markdown",
   "metadata": {},
   "source": [
    "## AUC Scores\n",
    "\n",
    "### Beaver_01\n",
    "\n",
    "| Mode | AUC |\n",
    "| --- | ---: |\n",
    "| Loss | 0.5549 |\n",
    "| KDE | 0.9209 |\n",
    "| KDE + Loss | 0.9209 |\n",
    "\n",
    "### Marten_01\n",
    "\n",
    "| Mode | AUC |\n",
    "| --- | ---: |\n",
    "| Loss | 0.8499 |\n",
    "| KDE | 1.0 |\n",
    "| KDE + Loss | 1.0 |"
   ]
  },
  {
   "cell_type": "code",
   "execution_count": null,
   "metadata": {},
   "outputs": [],
   "source": []
  }
 ],
 "metadata": {
  "kernelspec": {
   "display_name": "Python 3.10.4 ('pytorch-gpu')",
   "language": "python",
   "name": "python3"
  },
  "language_info": {
   "codemirror_mode": {
    "name": "ipython",
    "version": 3
   },
   "file_extension": ".py",
   "mimetype": "text/x-python",
   "name": "python",
   "nbconvert_exporter": "python",
   "pygments_lexer": "ipython3",
   "version": "3.10.4"
  },
  "orig_nbformat": 4,
  "vscode": {
   "interpreter": {
    "hash": "17cd5c528a3345b75540c61f907eece919c031d57a2ca1e5653325af249173c9"
   }
  }
 },
 "nbformat": 4,
 "nbformat_minor": 2
}
